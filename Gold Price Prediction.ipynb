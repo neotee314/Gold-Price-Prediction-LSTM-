{
 "cells": [
  {
   "cell_type": "markdown",
   "id": "f0790221",
   "metadata": {},
   "source": [
    "# IMPORT NECESSARY LIBRARIES"
   ]
  },
  {
   "cell_type": "code",
   "execution_count": 18,
   "id": "2eed065c",
   "metadata": {},
   "outputs": [],
   "source": [
    "import numpy as np\n",
    "import pandas as pd\n",
    "import matplotlib.pyplot as plt\n",
    "%matplotlib inline\n",
    "\n",
    "\n",
    "from keras.models import Sequential\n",
    "from keras.layers import Dense\n",
    "from keras.layers import LSTM, Flatten\n",
    "from sklearn.preprocessing import MinMaxScaler\n",
    "from sklearn.metrics import mean_squared_error"
   ]
  },
  {
   "cell_type": "markdown",
   "id": "688ede42",
   "metadata": {},
   "source": [
    "# LOADING DATASET"
   ]
  },
  {
   "cell_type": "code",
   "execution_count": 19,
   "id": "a8f58c35",
   "metadata": {},
   "outputs": [
    {
     "data": {
      "text/html": [
       "<div>\n",
       "<style scoped>\n",
       "    .dataframe tbody tr th:only-of-type {\n",
       "        vertical-align: middle;\n",
       "    }\n",
       "\n",
       "    .dataframe tbody tr th {\n",
       "        vertical-align: top;\n",
       "    }\n",
       "\n",
       "    .dataframe thead th {\n",
       "        text-align: right;\n",
       "    }\n",
       "</style>\n",
       "<table border=\"1\" class=\"dataframe\">\n",
       "  <thead>\n",
       "    <tr style=\"text-align: right;\">\n",
       "      <th></th>\n",
       "      <th>Price</th>\n",
       "    </tr>\n",
       "    <tr>\n",
       "      <th>Date</th>\n",
       "      <th></th>\n",
       "    </tr>\n",
       "  </thead>\n",
       "  <tbody>\n",
       "    <tr>\n",
       "      <th>1950-01</th>\n",
       "      <td>34.730</td>\n",
       "    </tr>\n",
       "    <tr>\n",
       "      <th>1950-02</th>\n",
       "      <td>34.730</td>\n",
       "    </tr>\n",
       "    <tr>\n",
       "      <th>1950-03</th>\n",
       "      <td>34.730</td>\n",
       "    </tr>\n",
       "    <tr>\n",
       "      <th>1950-04</th>\n",
       "      <td>34.730</td>\n",
       "    </tr>\n",
       "    <tr>\n",
       "      <th>1950-05</th>\n",
       "      <td>34.730</td>\n",
       "    </tr>\n",
       "    <tr>\n",
       "      <th>...</th>\n",
       "      <td>...</td>\n",
       "    </tr>\n",
       "    <tr>\n",
       "      <th>2020-03</th>\n",
       "      <td>1593.764</td>\n",
       "    </tr>\n",
       "    <tr>\n",
       "      <th>2020-04</th>\n",
       "      <td>1680.030</td>\n",
       "    </tr>\n",
       "    <tr>\n",
       "      <th>2020-05</th>\n",
       "      <td>1715.697</td>\n",
       "    </tr>\n",
       "    <tr>\n",
       "      <th>2020-06</th>\n",
       "      <td>1734.032</td>\n",
       "    </tr>\n",
       "    <tr>\n",
       "      <th>2020-07</th>\n",
       "      <td>1840.807</td>\n",
       "    </tr>\n",
       "  </tbody>\n",
       "</table>\n",
       "<p>847 rows × 1 columns</p>\n",
       "</div>"
      ],
      "text/plain": [
       "            Price\n",
       "Date             \n",
       "1950-01    34.730\n",
       "1950-02    34.730\n",
       "1950-03    34.730\n",
       "1950-04    34.730\n",
       "1950-05    34.730\n",
       "...           ...\n",
       "2020-03  1593.764\n",
       "2020-04  1680.030\n",
       "2020-05  1715.697\n",
       "2020-06  1734.032\n",
       "2020-07  1840.807\n",
       "\n",
       "[847 rows x 1 columns]"
      ]
     },
     "execution_count": 19,
     "metadata": {},
     "output_type": "execute_result"
    }
   ],
   "source": [
    "data = pd.read_csv('dataset/monthly_csv.csv' )\n",
    "data = data[['Date','Price']].set_index('Date')\n",
    "data"
   ]
  },
  {
   "cell_type": "code",
   "execution_count": 20,
   "id": "3f7e5fa2",
   "metadata": {},
   "outputs": [
    {
     "data": {
      "image/png": "[encoded data removed]",
      "text/plain": [
       "<Figure size 720x360 with 1 Axes>"
      ]
     },
     "metadata": {
      "needs_background": "light"
     },
     "output_type": "display_data"
    }
   ],
   "source": [
    "plt.figure(figsize = (10, 5))\n",
    "plt.title(\"monthly price history of gold\")\n",
    "plt.plot(data)\n",
    "plt.show()\n"
   ]
  },
  {
   "cell_type": "markdown",
   "id": "4068152e",
   "metadata": {},
   "source": [
    "### Convert pandas dataframe to numpy array"
   ]
  },
  {
   "cell_type": "code",
   "execution_count": 21,
   "id": "9ab5fed7",
   "metadata": {},
   "outputs": [
    {
     "data": {
      "text/plain": [
       "array([[34.73],\n",
       "       [34.73],\n",
       "       [34.73],\n",
       "       [34.73],\n",
       "       [34.73]])"
      ]
     },
     "execution_count": 21,
     "metadata": {},
     "output_type": "execute_result"
    }
   ],
   "source": [
    "dataset = data.values \n",
    "dataset[0:5]"
   ]
  },
  {
   "cell_type": "markdown",
   "id": "43bc3041",
   "metadata": {},
   "source": [
    "### Normalization"
   ]
  },
  {
   "cell_type": "code",
   "execution_count": 22,
   "id": "4b239085",
   "metadata": {},
   "outputs": [],
   "source": [
    "scaler = MinMaxScaler(feature_range = (0,1))\n",
    "dataset = scaler.fit_transform(dataset)\n"
   ]
  },
  {
   "cell_type": "markdown",
   "id": "5893c12c",
   "metadata": {},
   "source": [
    "### Creating Training & Testing  Dataset"
   ]
  },
  {
   "cell_type": "code",
   "execution_count": 23,
   "id": "3678d740",
   "metadata": {},
   "outputs": [],
   "source": [
    "#We cannot use random way of splitting dataset into train and test\n",
    "# as the sequence of events is important for time series\n",
    "#So Let us take first 70% values for train and remaining 30% for testing split into train and test sets\n",
    "train_data_size = int(len(dataset)*0.70)\n",
    "test_data_size = len(dataset) - train_data_size\n",
    "\n",
    "train_data = dataset[0:train_data_size,:] \n",
    "test_data = dataset[train_data_size:len(dataset),:]\n",
    "\n"
   ]
  },
  {
   "cell_type": "code",
   "execution_count": 24,
   "id": "9443d0c6",
   "metadata": {},
   "outputs": [],
   "source": [
    "seq_size =5  # Number of time steps to look back \n",
    "\n",
    "X_train = []\n",
    "y_train  = []\n",
    "\n",
    "for i in range(seq_size , train_data_size):\n",
    "        X_train.append(train_data[i-seq_size:i , 0])\n",
    "        y_train.append(train_data[i,0])\n",
    "        \n",
    "\n",
    "\n",
    "X_test = []\n",
    "y_test = []\n",
    "\n",
    "for i in range(seq_size , test_data_size):\n",
    "    X_test.append(test_data[i-seq_size:i,0])\n",
    "    y_test.append(test_data[i,0])\n"
   ]
  },
  {
   "cell_type": "markdown",
   "id": "e68846cf",
   "metadata": {},
   "source": [
    "### CONVERT TRAIN AND TEST DATSET TO NUMPY ARRAY"
   ]
  },
  {
   "cell_type": "code",
   "execution_count": 25,
   "id": "8dcc65d3",
   "metadata": {},
   "outputs": [],
   "source": [
    "X_train = np.array(X_train)\n",
    "y_train = np.array(y_train)\n",
    "\n",
    "X_test = np.array(X_test)\n",
    "y_test = np.array(y_test)\n"
   ]
  },
  {
   "cell_type": "markdown",
   "id": "dcfd5750",
   "metadata": {},
   "source": [
    "### Reshaping the data"
   ]
  },
  {
   "cell_type": "code",
   "execution_count": 26,
   "id": "23c3dacd",
   "metadata": {},
   "outputs": [],
   "source": [
    "X_train = np.reshape(X_train , (X_train.shape[0] , X_train.shape[1] , 1))"
   ]
  },
  {
   "cell_type": "markdown",
   "id": "efd27a32",
   "metadata": {},
   "source": [
    "# LSTM Model"
   ]
  },
  {
   "cell_type": "code",
   "execution_count": 27,
   "id": "b6f7bdc4",
   "metadata": {},
   "outputs": [
    {
     "name": "stdout",
     "output_type": "stream",
     "text": [
      "Model: \"sequential_1\"\n",
      "_________________________________________________________________\n",
      " Layer (type)                Output Shape              Param #   \n",
      "=================================================================\n",
      " lstm_2 (LSTM)               (None, 5, 128)            66560     \n",
      "                                                                 \n",
      " lstm_3 (LSTM)               (None, 64)                49408     \n",
      "                                                                 \n",
      " dense_2 (Dense)             (None, 32)                2080      \n",
      "                                                                 \n",
      " dense_3 (Dense)             (None, 1)                 33        \n",
      "                                                                 \n",
      "=================================================================\n",
      "Total params: 118,081\n",
      "Trainable params: 118,081\n",
      "Non-trainable params: 0\n",
      "_________________________________________________________________\n"
     ]
    }
   ],
   "source": [
    "model = Sequential()\n",
    "model.add(LSTM(128, activation='relu', return_sequences=True, input_shape=(X_train.shape[1] , 1)))\n",
    "model.add(LSTM(64, activation='relu'))\n",
    "model.add(Dense(32))\n",
    "model.add(Dense(1))\n",
    "model.compile(optimizer='adam', loss='mean_squared_error')\n",
    "\n",
    "model.summary()"
   ]
  },
  {
   "cell_type": "code",
   "execution_count": 28,
   "id": "15258830",
   "metadata": {},
   "outputs": [
    {
     "name": "stdout",
     "output_type": "stream",
     "text": [
      "Train ...\n",
      "Epoch 1/2\n",
      "587/587 [==============================] - 3s 3ms/step - loss: 0.0011\n",
      "Epoch 2/2\n",
      "587/587 [==============================] - 2s 3ms/step - loss: 5.0029e-04\n"
     ]
    },
    {
     "data": {
      "text/plain": [
       "<keras.callbacks.History at 0x14465e34d00>"
      ]
     },
     "execution_count": 28,
     "metadata": {},
     "output_type": "execute_result"
    }
   ],
   "source": [
    "print('Train ...')\n",
    "model.fit(X_train , y_train, epochs = 2, batch_size = 1)"
   ]
  },
  {
   "cell_type": "markdown",
   "id": "831c6b03",
   "metadata": {},
   "source": [
    "### Get predicted prices"
   ]
  },
  {
   "cell_type": "code",
   "execution_count": 29,
   "id": "865ae492",
   "metadata": {},
   "outputs": [
    {
     "name": "stdout",
     "output_type": "stream",
     "text": [
      "8/8 [==============================] - 0s 3ms/step\n"
     ]
    }
   ],
   "source": [
    "# make prediction\n",
    "prediction = model.predict(X_test)\n",
    "prediction = scaler.inverse_transform(prediction)"
   ]
  },
  {
   "cell_type": "markdown",
   "id": "f4b94a83",
   "metadata": {},
   "source": [
    "### Get root mean squared error (RMSE)"
   ]
  },
  {
   "cell_type": "code",
   "execution_count": 30,
   "id": "6f577b5c",
   "metadata": {},
   "outputs": [
    {
     "data": {
      "text/plain": [
       "1049.176831671019"
      ]
     },
     "execution_count": 30,
     "metadata": {},
     "output_type": "execute_result"
    }
   ],
   "source": [
    "rmse = np.sqrt(np.mean(((prediction - y_test) ** 2)))\n",
    "rmse"
   ]
  },
  {
   "cell_type": "markdown",
   "id": "a81b7636",
   "metadata": {},
   "source": [
    "# Plotting"
   ]
  },
  {
   "cell_type": "code",
   "execution_count": 31,
   "id": "8bcc5615",
   "metadata": {},
   "outputs": [
    {
     "data": {
      "image/png": "[encoded data removed]",
      "text/plain": [
       "<Figure size 720x360 with 1 Axes>"
      ]
     },
     "metadata": {
      "needs_background": "light"
     },
     "output_type": "display_data"
    }
   ],
   "source": [
    "\n",
    "train = data[:train_data_size]\n",
    "actual = data[train_data_size:-seq_size]\n",
    "predict = pd.DataFrame({'Price':actual['Price'] , 'Prediction':prediction.flatten()})\n",
    "# Visualize the data\n",
    "plt.figure(figsize=(10,5))\n",
    "plt.title('Model')\n",
    "\n",
    "plt.plot(train['Price'])\n",
    "plt.plot(actual['Price'])\n",
    "plt.plot(predict)\n",
    "plt.legend(['Train', 'Actual', 'Prediction'], loc='lower right')\n",
    "\n",
    "plt.show()\n"
   ]
  },
  {
   "cell_type": "code",
   "execution_count": null,
   "id": "1328e633",
   "metadata": {},
   "outputs": [],
   "source": []
  }
 ],
 "metadata": {
  "kernelspec": {
   "display_name": "Python 3 (ipykernel)",
   "language": "python",
   "name": "python3"
  },
  "language_info": {
   "codemirror_mode": {
    "name": "ipython",
    "version": 3
   },
   "file_extension": ".py",
   "mimetype": "text/x-python",
   "name": "python",
   "nbconvert_exporter": "python",
   "pygments_lexer": "ipython3",
   "version": "3.10.4"
  }
 },
 "nbformat": 4,
 "nbformat_minor": 5
}
